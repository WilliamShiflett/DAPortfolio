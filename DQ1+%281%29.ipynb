{
 "cells": [
  {
   "cell_type": "markdown",
   "metadata": {},
   "source": [
    "# <font color=\"crimson\">Dataquest Guided Project 1:</font>\n",
    "## Explore US Births\n",
    "\n",
    "In this project, I analyze CDC and SSA data to determine the frequency of births by\n",
    "\n",
    "- year, \n",
    "- month, \n",
    "- date of month, \n",
    "- and day of the week.\n",
    "\n",
    "First, I will need to\n",
    "\n",
    "- **scrape the raw data from the web** \n",
    "- **and convert the data into lists**. \n",
    "\n",
    "The code to do this follows:"
   ]
  },
  {
   "cell_type": "code",
   "execution_count": 1,
   "metadata": {
    "collapsed": true
   },
   "outputs": [],
   "source": [
    "import csv\n",
    "import requests\n",
    "\n",
    "CSV_URL_1 = 'https://raw.githubusercontent.com/fivethirtyeight/data/master/births/US_births_1994-2003_CDC_NCHS.csv'\n",
    "CSV_URL_2 = 'https://raw.githubusercontent.com/fivethirtyeight/data/master/births/US_births_2000-2014_SSA.csv'\n",
    "\n",
    "with requests.Session() as s:\n",
    "    download = s.get(CSV_URL_1)\n",
    "\n",
    "    decoded_content = download.content.decode('utf-8')\n",
    "\n",
    "    cr1 = csv.reader(decoded_content.splitlines(), delimiter=',')\n",
    "    my_list_1 = list(cr1)\n",
    "        \n",
    "with requests.Session() as s:\n",
    "    download = s.get(CSV_URL_2)\n",
    "\n",
    "    decoded_content = download.content.decode('utf-8')\n",
    "\n",
    "    cr2 = csv.reader(decoded_content.splitlines(), delimiter=',')\n",
    "    my_list_2 = list(cr2)\n"
   ]
  },
  {
   "cell_type": "markdown",
   "metadata": {},
   "source": [
    "Now there are two lists containing the birth data:\n",
    "\n",
    "- *my_list_1* has the CDC data,\n",
    "- *and my_list_2* has the SSA data.\n",
    "\n",
    "Both lists have a header with column denoting variable names. The following code shows that the headers are identical:\n"
   ]
  },
  {
   "cell_type": "code",
   "execution_count": 2,
   "metadata": {
    "scrolled": true
   },
   "outputs": [
    {
     "name": "stdout",
     "output_type": "stream",
     "text": [
      "['year', 'month', 'date_of_month', 'day_of_week', 'births']\n",
      "['year', 'month', 'date_of_month', 'day_of_week', 'births']\n"
     ]
    }
   ],
   "source": [
    "print(my_list_1[0])\n",
    "print(my_list_2[0])"
   ]
  },
  {
   "cell_type": "markdown",
   "metadata": {},
   "source": [
    "The next step is to **append one list to the other**. \n",
    "\n",
    "Since the columns in the lists are the same, I don't need to rearrange the columns before appending one list to the other. In other words, both lists record data on the same variables in the same order. \n",
    "\n",
    "NB: If this were not the case, Python would make it easy to swap columns. Say we wanted to swap the order of the variables *month* and *day_of_week* in the list *my_list_1*, we could do so with a simple loop:\n"
   ]
  },
  {
   "cell_type": "code",
   "execution_count": 3,
   "metadata": {},
   "outputs": [
    {
     "name": "stdout",
     "output_type": "stream",
     "text": [
      "[['year', 'day_of_week', 'date_of_month', 'month', 'births'], ['1994', '6', '1', '1', '8096'], ['1994', '7', '2', '1', '7772'], ['1994', '1', '3', '1', '10142'], ['1994', '2', '4', '1', '11248'], ['1994', '3', '5', '1', '11053'], ['1994', '4', '6', '1', '11406'], ['1994', '5', '7', '1', '11251'], ['1994', '6', '8', '1', '8653'], ['1994', '7', '9', '1', '7910']]\n"
     ]
    }
   ],
   "source": [
    "for variable in my_list_1:\n",
    "    variable[1], variable[3] = variable[3], variable[1]\n",
    "    \n",
    "print(my_list_1[0:10]) "
   ]
  },
  {
   "cell_type": "markdown",
   "metadata": {},
   "source": [
    "But we don't want to do that, so we'll undo that code with some more:"
   ]
  },
  {
   "cell_type": "code",
   "execution_count": 4,
   "metadata": {},
   "outputs": [
    {
     "name": "stdout",
     "output_type": "stream",
     "text": [
      "[['year', 'month', 'date_of_month', 'day_of_week', 'births'], ['1994', '1', '1', '6', '8096'], ['1994', '1', '2', '7', '7772'], ['1994', '1', '3', '1', '10142'], ['1994', '1', '4', '2', '11248'], ['1994', '1', '5', '3', '11053'], ['1994', '1', '6', '4', '11406'], ['1994', '1', '7', '5', '11251'], ['1994', '1', '8', '6', '8653'], ['1994', '1', '9', '7', '7910']]\n"
     ]
    }
   ],
   "source": [
    "for variable in my_list_1:\n",
    "    variable[3], variable[1] = variable[1], variable[3]\n",
    "    \n",
    "print(my_list_1[0:10]) "
   ]
  },
  {
   "cell_type": "markdown",
   "metadata": {},
   "source": [
    "Good as new!\n",
    "\n",
    "Unfortunately, while the variable orders for the lists match, there is some overlap in the time periods they cover:\n"
   ]
  },
  {
   "cell_type": "code",
   "execution_count": 5,
   "metadata": {},
   "outputs": [
    {
     "name": "stdout",
     "output_type": "stream",
     "text": [
      "['1994', '1', '1', '6', '8096'] ['2003', '12', '31', '3', '12374']\n",
      "['2000', '1', '1', '6', '9083'] ['2014', '12', '31', '3', '11990']\n"
     ]
    }
   ],
   "source": [
    "print(my_list_1[1],my_list_1[len(my_list_1)-1])\n",
    "print(my_list_2[1],my_list_2[len(my_list_2)-1])"
   ]
  },
  {
   "cell_type": "code",
   "execution_count": null,
   "metadata": {
    "collapsed": true
   },
   "outputs": [],
   "source": []
  }
 ],
 "metadata": {
  "kernelspec": {
   "display_name": "Python 3",
   "language": "python",
   "name": "python3"
  },
  "language_info": {
   "codemirror_mode": {
    "name": "ipython",
    "version": 3
   },
   "file_extension": ".py",
   "mimetype": "text/x-python",
   "name": "python",
   "nbconvert_exporter": "python",
   "pygments_lexer": "ipython3",
   "version": "3.6.2"
  }
 },
 "nbformat": 4,
 "nbformat_minor": 2
}
