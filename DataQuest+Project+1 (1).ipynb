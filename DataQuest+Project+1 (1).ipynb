{
 "cells": [
  {
   "cell_type": "markdown",
   "metadata": {},
   "source": [
    "# Exploring US Births\n",
    "\n",
    "This juptyer notebook is based on a guided project from [DataQuest](https://www.dataquest.io), a data analytics tutorial.\n",
    "\n",
    "The data comes from a [FiveThirtyEight](https://fivethirtyeight.com/) analysis, [Some People Are Too Superstitious to Have a Baby on Friday the 13th](https://github.com/fivethirtyeight/data/tree/master/births).\n",
    "\n",
    "## Scope\n",
    "\n",
    "In this project, I'll analyze CDC and SSA data to determine the frequency of births by\n",
    "\n",
    "- year,\n",
    "- month,\n",
    "- day of the month,\n",
    "- and day of the week.\n"
   ]
  },
  {
   "cell_type": "markdown",
   "metadata": {},
   "source": [
    "# Making a list...\n",
    "\n",
    "I'll start by reading both datasets into lists, and then creating a list of those lists:"
   ]
  },
  {
   "cell_type": "code",
   "execution_count": 5,
   "metadata": {
    "collapsed": true
   },
   "outputs": [],
   "source": [
    "import csv\n",
    "import requests\n",
    "\n",
    "CDC_CSV_URL_1 = 'https://raw.githubusercontent.com/fivethirtyeight/data/master/births/US_births_1994-2003_CDC_NCHS.csv'\n",
    "SSA_CSV_URL_2 = 'https://raw.githubusercontent.com/fivethirtyeight/data/master/births/US_births_2000-2014_SSA.csv'\n",
    "\n",
    "seeEssVees = [CDC_CSV_URL_1, SSA_CSV_URL_2]\n",
    "listOfLists = []\n",
    "\n",
    "for each in seeEssVees:\n",
    "    with requests.Session() as s:\n",
    "        download = s.get(each)\n",
    "        decoded_content = download.content.decode('utf-8')\n",
    "        data = csv.reader(decoded_content.splitlines(), delimiter=',')\n",
    "        listOfLists.append(list(data))\n",
    "        "
   ]
  },
  {
   "cell_type": "markdown",
   "metadata": {},
   "source": [
    "# Checking it twice...\n",
    "\n",
    "The first element of each list should be a header row describing the datapoints that follow:"
   ]
  },
  {
   "cell_type": "code",
   "execution_count": 6,
   "metadata": {},
   "outputs": [
    {
     "data": {
      "text/plain": [
       "[['year', 'month', 'date_of_month', 'day_of_week', 'births'],\n",
       " ['1994', '1', '1', '6', '8096'],\n",
       " ['1994', '1', '2', '7', '7772'],\n",
       " ['1994', '1', '3', '1', '10142'],\n",
       " ['1994', '1', '4', '2', '11248']]"
      ]
     },
     "execution_count": 6,
     "metadata": {},
     "output_type": "execute_result"
    }
   ],
   "source": [
    "listOfLists[0][0:5]"
   ]
  },
  {
   "cell_type": "code",
   "execution_count": 7,
   "metadata": {},
   "outputs": [
    {
     "data": {
      "text/plain": [
       "[['year', 'month', 'date_of_month', 'day_of_week', 'births'],\n",
       " ['2000', '1', '1', '6', '9083'],\n",
       " ['2000', '1', '2', '7', '8006'],\n",
       " ['2000', '1', '3', '1', '11363'],\n",
       " ['2000', '1', '4', '2', '13032']]"
      ]
     },
     "execution_count": 7,
     "metadata": {},
     "output_type": "execute_result"
    }
   ],
   "source": [
    "listOfLists[1][0:5]"
   ]
  },
  {
   "cell_type": "markdown",
   "metadata": {},
   "source": [
    "# Benchmarking...\n",
    "\n",
    "Both datasets contain datapoints for the years 2000 - 2003. Presumably, the number of CDC and SSA records should match. \n",
    "\n",
    "The code below checks whether this is the case:"
   ]
  },
  {
   "cell_type": "code",
   "execution_count": 59,
   "metadata": {
    "scrolled": true
   },
   "outputs": [
    {
     "name": "stdout",
     "output_type": "stream",
     "text": [
      "It's True that both lists have the same number of elements:\n",
      "The CDC data has 1461 observations for the years 2000-2003.\n",
      "The SSA data has 1461 observations for the years 2000-2003.\n"
     ]
    }
   ],
   "source": [
    "checkListCDC = []\n",
    "checkListSSA = []\n",
    "\n",
    "for each in listOfLists[0]:\n",
    "    try:\n",
    "        year = int(each[0])\n",
    "        if (2000 <= year) and (year < 2004):\n",
    "            checkListCDC.append(each)\n",
    "    except:\n",
    "        pass\n",
    "    \n",
    "for each in listOfLists[1]:\n",
    "    try:\n",
    "        year = int(each[0])\n",
    "        if (2000 <= year) and (year < 2004):\n",
    "            checkListSSA.append(each)\n",
    "    except:\n",
    "        pass\n",
    "\n",
    "\n",
    "print(\"It's\",(len(checkListSSA) == len(checkListCDC)),\"that both lists have the same number of elements:\")\n",
    "print(\"The CDC data has\",len(checkListCDC), \"observations for the years 2000-2003.\")\n",
    "print(\"The SSA data has\",len(checkListSSA), \"observations for the years 2000-2003.\")\n",
    "    "
   ]
  },
  {
   "cell_type": "markdown",
   "metadata": {},
   "source": [
    "# More Benchmarking...\n",
    "\n",
    "Both datasets contain the same *number* of datapoints for the years 2000 - 2003. But are those data points the same?\n",
    "\n",
    "The code below compares the first five observations:"
   ]
  },
  {
   "cell_type": "code",
   "execution_count": 60,
   "metadata": {},
   "outputs": [
    {
     "data": {
      "text/plain": [
       "[['2000', '1', '1', '6', '8843'],\n",
       " ['2000', '1', '2', '7', '7816'],\n",
       " ['2000', '1', '3', '1', '11123'],\n",
       " ['2000', '1', '4', '2', '12703'],\n",
       " ['2000', '1', '5', '3', '12240']]"
      ]
     },
     "execution_count": 60,
     "metadata": {},
     "output_type": "execute_result"
    }
   ],
   "source": [
    "checkListCDC[0:5]"
   ]
  },
  {
   "cell_type": "code",
   "execution_count": 62,
   "metadata": {},
   "outputs": [
    {
     "data": {
      "text/plain": [
       "[['2000', '1', '1', '6', '9083'],\n",
       " ['2000', '1', '2', '7', '8006'],\n",
       " ['2000', '1', '3', '1', '11363'],\n",
       " ['2000', '1', '4', '2', '13032'],\n",
       " ['2000', '1', '5', '3', '12558']]"
      ]
     },
     "execution_count": 62,
     "metadata": {},
     "output_type": "execute_result"
    }
   ],
   "source": [
    "checkListSSA[0:5]"
   ]
  },
  {
   "cell_type": "markdown",
   "metadata": {},
   "source": [
    "# Counting Function\n",
    "\n",
    "The births recorded by each dataset differ, so we should analyze them separately.\n",
    "\n",
    "Rather write code to analyze each dataset separately, the code below creates a function that sums the number of births by year, month, day of the month, and day of the week."
   ]
  },
  {
   "cell_type": "code",
   "execution_count": 80,
   "metadata": {},
   "outputs": [
    {
     "name": "stdout",
     "output_type": "stream",
     "text": [
      "{1994: 3952767, 1995: 3899589, 1996: 3891494, 1997: 3880894, 1998: 3941553, 1999: 3959417, 2000: 4058814, 2001: 4025933, 2002: 4021726, 2003: 4089950}\n",
      "{1: 3232517, 2: 3018140, 3: 3322069, 4: 3185314, 5: 3350907, 6: 3296530, 7: 3498783, 8: 3525858, 9: 3439698, 10: 3378814, 11: 3171647, 12: 3301860}\n",
      "{1: 1276557, 2: 1288739, 3: 1304499, 4: 1288154, 5: 1299953, 6: 1304474, 7: 1310459, 8: 1312297, 9: 1303292, 10: 1320764, 11: 1314361, 12: 1318437, 13: 1277684, 14: 1320153, 15: 1319171, 16: 1315192, 17: 1324953, 18: 1326855, 19: 1318727, 20: 1324821, 21: 1322897, 22: 1317381, 23: 1293290, 24: 1288083, 25: 1272116, 26: 1284796, 27: 1294395, 28: 1307685, 29: 1223161, 30: 1202095, 31: 746696}\n",
      "{6: 4562111, 7: 4079723, 1: 5789166, 2: 6446196, 3: 6322855, 4: 6288429, 5: 6233657}\n",
      "{2000: 4149598, 2001: 4110963, 2002: 4099313, 2003: 4163060, 2004: 4186863, 2005: 4211941, 2006: 4335154, 2007: 4380784, 2008: 4310737, 2009: 4190991, 2010: 4055975, 2011: 4006908, 2012: 4000868, 2013: 3973337, 2014: 4010532}\n",
      "{1: 5072588, 2: 4725693, 3: 5172961, 4: 4960750, 5: 5195445, 6: 5163360, 7: 5450418, 8: 5540170, 9: 5399592, 10: 5302865, 11: 5008750, 12: 5194432}\n",
      "{1: 2003627, 2: 2030447, 3: 2042441, 4: 2004785, 5: 2036185, 6: 2037729, 7: 2063416, 8: 2061652, 9: 2044600, 10: 2066154, 11: 2054098, 12: 2072483, 13: 2000064, 14: 2076291, 15: 2066999, 16: 2058651, 17: 2071572, 18: 2077673, 19: 2065328, 20: 2083247, 21: 2079198, 22: 2051012, 23: 2023555, 24: 1993203, 25: 1972534, 26: 2001311, 27: 2035483, 28: 2051528, 29: 1918965, 30: 1879925, 31: 1162868}\n",
      "{6: 6704495, 7: 5886889, 1: 9316001, 2: 10274874, 3: 10109130, 4: 10045436, 5: 9850199}\n"
     ]
    }
   ],
   "source": [
    "def calc_counts(data, column):\n",
    "    totalBirths = {}\n",
    "    for each in data:\n",
    "        try:\n",
    "            period = int(each[column])\n",
    "            if period in totalBirths:\n",
    "                totalBirths[period]+=int(each[4])\n",
    "            else:\n",
    "                totalBirths[period]=int(each[4])\n",
    "        except:\n",
    "            pass\n",
    "    return totalBirths\n",
    "\n",
    "for each1 in listOfLists:\n",
    "    for i in range(4):\n",
    "        print(calc_counts(each1,i))\n",
    "        "
   ]
  }
 ],
 "metadata": {
  "kernelspec": {
   "display_name": "Python 3",
   "language": "python",
   "name": "python3"
  },
  "language_info": {
   "codemirror_mode": {
    "name": "ipython",
    "version": 3
   },
   "file_extension": ".py",
   "mimetype": "text/x-python",
   "name": "python",
   "nbconvert_exporter": "python",
   "pygments_lexer": "ipython3",
   "version": "3.6.3"
  }
 },
 "nbformat": 4,
 "nbformat_minor": 2
}
