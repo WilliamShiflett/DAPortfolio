{
 "cells": [
  {
   "cell_type": "markdown",
   "metadata": {},
   "source": [
    "# Exploring US Births\n",
    "\n",
    "This juptyer notebook is based on a guided project from [DataQuest](https://www.dataquest.io), a data analytics tutorial.\n",
    "\n",
    "The data comes from a [FiveThirtyEight](https://fivethirtyeight.com/) analysis, [Some People Are Too Superstitious to Have a Baby on Friday the 13th](https://github.com/fivethirtyeight/data/tree/master/births).\n",
    "\n",
    "## Scope\n",
    "\n",
    "In this project, I'll analyze CDC and SSA data to determine the frequency of births by\n",
    "\n",
    "- year,\n",
    "- month,\n",
    "- day of the month,\n",
    "- and day of the week.\n"
   ]
  },
  {
   "cell_type": "markdown",
   "metadata": {},
   "source": [
    "# Making a list...\n",
    "\n",
    "I'll start by reading both datasets into lists, and then creating a list of those lists:"
   ]
  },
  {
   "cell_type": "code",
   "execution_count": 5,
   "metadata": {
    "collapsed": true
   },
   "outputs": [],
   "source": [
    "import csv\n",
    "import requests\n",
    "\n",
    "CDC_CSV_URL_1 = 'https://raw.githubusercontent.com/fivethirtyeight/data/master/births/US_births_1994-2003_CDC_NCHS.csv'\n",
    "SSA_CSV_URL_2 = 'https://raw.githubusercontent.com/fivethirtyeight/data/master/births/US_births_2000-2014_SSA.csv'\n",
    "\n",
    "seeEssVees = [CDC_CSV_URL_1, SSA_CSV_URL_2]\n",
    "listOfLists = []\n",
    "\n",
    "for each in seeEssVees:\n",
    "    with requests.Session() as s:\n",
    "        download = s.get(each)\n",
    "        decoded_content = download.content.decode('utf-8')\n",
    "        data = csv.reader(decoded_content.splitlines(), delimiter=',')\n",
    "        listOfLists.append(list(data))\n",
    "        "
   ]
  },
  {
   "cell_type": "markdown",
   "metadata": {},
   "source": [
    "# Checking it twice...\n",
    "\n",
    "The first element of each list should be a header row describing the datapoints that follow:"
   ]
  },
  {
   "cell_type": "code",
   "execution_count": 6,
   "metadata": {},
   "outputs": [
    {
     "data": {
      "text/plain": [
       "[['year', 'month', 'date_of_month', 'day_of_week', 'births'],\n",
       " ['1994', '1', '1', '6', '8096'],\n",
       " ['1994', '1', '2', '7', '7772'],\n",
       " ['1994', '1', '3', '1', '10142'],\n",
       " ['1994', '1', '4', '2', '11248']]"
      ]
     },
     "execution_count": 6,
     "metadata": {},
     "output_type": "execute_result"
    }
   ],
   "source": [
    "listOfLists[0][0:5]"
   ]
  },
  {
   "cell_type": "code",
   "execution_count": 7,
   "metadata": {},
   "outputs": [
    {
     "data": {
      "text/plain": [
       "[['year', 'month', 'date_of_month', 'day_of_week', 'births'],\n",
       " ['2000', '1', '1', '6', '9083'],\n",
       " ['2000', '1', '2', '7', '8006'],\n",
       " ['2000', '1', '3', '1', '11363'],\n",
       " ['2000', '1', '4', '2', '13032']]"
      ]
     },
     "execution_count": 7,
     "metadata": {},
     "output_type": "execute_result"
    }
   ],
   "source": [
    "listOfLists[1][0:5]"
   ]
  },
  {
   "cell_type": "markdown",
   "metadata": {},
   "source": [
    "# Benchmarking...\n",
    "\n",
    "Both datasets contain datapoints for the years 2000 - 2003. Presumably, the number of CDC and SSA records should match. \n",
    "\n",
    "The code below checks whether this is the case:"
   ]
  },
  {
   "cell_type": "code",
   "execution_count": 59,
   "metadata": {
    "scrolled": true
   },
   "outputs": [
    {
     "name": "stdout",
     "output_type": "stream",
     "text": [
      "It's True that both lists have the same number of elements:\n",
      "The CDC data has 1461 observations for the years 2000-2003.\n",
      "The SSA data has 1461 observations for the years 2000-2003.\n"
     ]
    }
   ],
   "source": [
    "checkListCDC = []\n",
    "checkListSSA = []\n",
    "\n",
    "for each in listOfLists[0]:\n",
    "    try:\n",
    "        year = int(each[0])\n",
    "        if (2000 <= year) and (year < 2004):\n",
    "            checkListCDC.append(each)\n",
    "    except:\n",
    "        pass\n",
    "    \n",
    "for each in listOfLists[1]:\n",
    "    try:\n",
    "        year = int(each[0])\n",
    "        if (2000 <= year) and (year < 2004):\n",
    "            checkListSSA.append(each)\n",
    "    except:\n",
    "        pass\n",
    "\n",
    "\n",
    "print(\"It's\",(len(checkListSSA) == len(checkListCDC)),\"that both lists have the same number of elements:\")\n",
    "print(\"The CDC data has\",len(checkListCDC), \"observations for the years 2000-2003.\")\n",
    "print(\"The SSA data has\",len(checkListSSA), \"observations for the years 2000-2003.\")\n",
    "    "
   ]
  },
  {
   "cell_type": "markdown",
   "metadata": {},
   "source": [
    "# More Benchmarking...\n",
    "\n",
    "Both datasets contain the same *number* of datapoints for the years 2000 - 2003. But are those data points the same?\n",
    "\n",
    "The code below compares the first five observations:"
   ]
  },
  {
   "cell_type": "code",
   "execution_count": 60,
   "metadata": {},
   "outputs": [
    {
     "data": {
      "text/plain": [
       "[['2000', '1', '1', '6', '8843'],\n",
       " ['2000', '1', '2', '7', '7816'],\n",
       " ['2000', '1', '3', '1', '11123'],\n",
       " ['2000', '1', '4', '2', '12703'],\n",
       " ['2000', '1', '5', '3', '12240']]"
      ]
     },
     "execution_count": 60,
     "metadata": {},
     "output_type": "execute_result"
    }
   ],
   "source": [
    "checkListCDC[0:5]"
   ]
  },
  {
   "cell_type": "code",
   "execution_count": 62,
   "metadata": {},
   "outputs": [
    {
     "data": {
      "text/plain": [
       "[['2000', '1', '1', '6', '9083'],\n",
       " ['2000', '1', '2', '7', '8006'],\n",
       " ['2000', '1', '3', '1', '11363'],\n",
       " ['2000', '1', '4', '2', '13032'],\n",
       " ['2000', '1', '5', '3', '12558']]"
      ]
     },
     "execution_count": 62,
     "metadata": {},
     "output_type": "execute_result"
    }
   ],
   "source": [
    "checkListSSA[0:5]"
   ]
  },
  {
   "cell_type": "markdown",
   "metadata": {},
   "source": [
    "# Counting Function\n",
    "\n",
    "There are differences in the number of births recorded by each dataset, so we should analyze them separately.\n",
    "\n",
    "Rather write code to analyze each dataset separately, the code below creates a function that sums the number of births by year, month, day of the month, and day of the week."
   ]
  },
  {
   "cell_type": "code",
   "execution_count": 104,
   "metadata": {},
   "outputs": [
    {
     "name": "stdout",
     "output_type": "stream",
     "text": [
      "\n",
      "New dataset begins below:\n",
      "\n",
      "{1994: 3952767,\n",
      " 1995: 3899589,\n",
      " 1996: 3891494,\n",
      " 1997: 3880894,\n",
      " 1998: 3941553,\n",
      " 1999: 3959417,\n",
      " 2000: 4058814,\n",
      " 2001: 4025933,\n",
      " 2002: 4021726,\n",
      " 2003: 4089950}\n",
      "{1: 3232517,\n",
      " 2: 3018140,\n",
      " 3: 3322069,\n",
      " 4: 3185314,\n",
      " 5: 3350907,\n",
      " 6: 3296530,\n",
      " 7: 3498783,\n",
      " 8: 3525858,\n",
      " 9: 3439698,\n",
      " 10: 3378814,\n",
      " 11: 3171647,\n",
      " 12: 3301860}\n",
      "{1: 1276557,\n",
      " 2: 1288739,\n",
      " 3: 1304499,\n",
      " 4: 1288154,\n",
      " 5: 1299953,\n",
      " 6: 1304474,\n",
      " 7: 1310459,\n",
      " 8: 1312297,\n",
      " 9: 1303292,\n",
      " 10: 1320764,\n",
      " 11: 1314361,\n",
      " 12: 1318437,\n",
      " 13: 1277684,\n",
      " 14: 1320153,\n",
      " 15: 1319171,\n",
      " 16: 1315192,\n",
      " 17: 1324953,\n",
      " 18: 1326855,\n",
      " 19: 1318727,\n",
      " 20: 1324821,\n",
      " 21: 1322897,\n",
      " 22: 1317381,\n",
      " 23: 1293290,\n",
      " 24: 1288083,\n",
      " 25: 1272116,\n",
      " 26: 1284796,\n",
      " 27: 1294395,\n",
      " 28: 1307685,\n",
      " 29: 1223161,\n",
      " 30: 1202095,\n",
      " 31: 746696}\n",
      "{1: 5789166,\n",
      " 2: 6446196,\n",
      " 3: 6322855,\n",
      " 4: 6288429,\n",
      " 5: 6233657,\n",
      " 6: 4562111,\n",
      " 7: 4079723}\n",
      "\n",
      "New dataset begins below:\n",
      "\n",
      "{2000: 4149598,\n",
      " 2001: 4110963,\n",
      " 2002: 4099313,\n",
      " 2003: 4163060,\n",
      " 2004: 4186863,\n",
      " 2005: 4211941,\n",
      " 2006: 4335154,\n",
      " 2007: 4380784,\n",
      " 2008: 4310737,\n",
      " 2009: 4190991,\n",
      " 2010: 4055975,\n",
      " 2011: 4006908,\n",
      " 2012: 4000868,\n",
      " 2013: 3973337,\n",
      " 2014: 4010532}\n",
      "{1: 5072588,\n",
      " 2: 4725693,\n",
      " 3: 5172961,\n",
      " 4: 4960750,\n",
      " 5: 5195445,\n",
      " 6: 5163360,\n",
      " 7: 5450418,\n",
      " 8: 5540170,\n",
      " 9: 5399592,\n",
      " 10: 5302865,\n",
      " 11: 5008750,\n",
      " 12: 5194432}\n",
      "{1: 2003627,\n",
      " 2: 2030447,\n",
      " 3: 2042441,\n",
      " 4: 2004785,\n",
      " 5: 2036185,\n",
      " 6: 2037729,\n",
      " 7: 2063416,\n",
      " 8: 2061652,\n",
      " 9: 2044600,\n",
      " 10: 2066154,\n",
      " 11: 2054098,\n",
      " 12: 2072483,\n",
      " 13: 2000064,\n",
      " 14: 2076291,\n",
      " 15: 2066999,\n",
      " 16: 2058651,\n",
      " 17: 2071572,\n",
      " 18: 2077673,\n",
      " 19: 2065328,\n",
      " 20: 2083247,\n",
      " 21: 2079198,\n",
      " 22: 2051012,\n",
      " 23: 2023555,\n",
      " 24: 1993203,\n",
      " 25: 1972534,\n",
      " 26: 2001311,\n",
      " 27: 2035483,\n",
      " 28: 2051528,\n",
      " 29: 1918965,\n",
      " 30: 1879925,\n",
      " 31: 1162868}\n",
      "{1: 9316001,\n",
      " 2: 10274874,\n",
      " 3: 10109130,\n",
      " 4: 10045436,\n",
      " 5: 9850199,\n",
      " 6: 6704495,\n",
      " 7: 5886889}\n"
     ]
    }
   ],
   "source": [
    "import pprint\n",
    "\n",
    "def calc_counts(data, column):\n",
    "    totalBirths = {}\n",
    "    for each in data:\n",
    "        try:\n",
    "            period = int(each[column])\n",
    "            if period in totalBirths:\n",
    "                totalBirths[period]+=int(each[4])\n",
    "            else:\n",
    "                totalBirths[period]=int(each[4])\n",
    "        except:\n",
    "            pass\n",
    "    return totalBirths\n",
    "\n",
    "for each1 in listOfLists:\n",
    "    print(\"\")\n",
    "    print(\"New dataset begins below:\")\n",
    "    print(\"\")\n",
    "    for i in range(4):\n",
    "        pprint.pprint(calc_counts(each1,i))\n",
    "        \n",
    "        "
   ]
  },
  {
   "cell_type": "markdown",
   "metadata": {},
   "source": [
    "# More Functions\n",
    "\n",
    "Write a function that can calculate the min and max values for any dictionary that's passed in.\n",
    "Write a function that extracts the same values across years and calculates the differences between consecutive values to show if number of births is increasing or decreasing.\n",
    "For example, how did the number of births on Saturday change each year between 1994 and 2003?\n",
    "Find a way to combine the CDC data with the SSA data, which you can find here. Specifically, brainstorm ways to deal with the overlapping time periods in the datasets.\n",
    "\n",
    "\n"
   ]
  }
 ],
 "metadata": {
  "kernelspec": {
   "display_name": "Python 3",
   "language": "python",
   "name": "python3"
  },
  "language_info": {
   "codemirror_mode": {
    "name": "ipython",
    "version": 3
   },
   "file_extension": ".py",
   "mimetype": "text/x-python",
   "name": "python",
   "nbconvert_exporter": "python",
   "pygments_lexer": "ipython3",
   "version": "3.6.3"
  }
 },
 "nbformat": 4,
 "nbformat_minor": 2
}
