{
 "cells": [
  {
   "cell_type": "markdown",
   "metadata": {},
   "source": [
    "# Exploring US Births\n",
    "\n",
    "This juptyer notebook is based on a guided project from [DataQuest](https://www.dataquest.io), a data analytics tutorial.\n",
    "\n",
    "The data comes from a [FiveThirtyEight](https://fivethirtyeight.com/) analysis, [Some People Are Too Superstitious to Have a Baby on Friday the 13th](https://github.com/fivethirtyeight/data/tree/master/births).\n",
    "\n",
    "## Scope\n",
    "\n",
    "In this project, I'll analyze CDC and SSA data to determine the frequency of births by\n",
    "\n",
    "- year,\n",
    "- month,\n",
    "- and day of the week.\n"
   ]
  },
  {
   "cell_type": "markdown",
   "metadata": {},
   "source": [
    "# Making a list...\n",
    "\n",
    "I'll start by reading both datasets into lists, and then creating a list of those lists:"
   ]
  },
  {
   "cell_type": "code",
   "execution_count": 5,
   "metadata": {},
   "outputs": [],
   "source": [
    "import csv\n",
    "import requests\n",
    "\n",
    "CDC_CSV_URL_1 = 'https://raw.githubusercontent.com/fivethirtyeight/data/master/births/US_births_1994-2003_CDC_NCHS.csv'\n",
    "SSA_CSV_URL_2 = 'https://raw.githubusercontent.com/fivethirtyeight/data/master/births/US_births_2000-2014_SSA.csv'\n",
    "\n",
    "seeEssVees = [CDC_CSV_URL_1, SSA_CSV_URL_2]\n",
    "listOfLists = []\n",
    "\n",
    "for each in seeEssVees:\n",
    "    with requests.Session() as s:\n",
    "        download = s.get(each)\n",
    "        decoded_content = download.content.decode('utf-8')\n",
    "        data = csv.reader(decoded_content.splitlines(), delimiter=',')\n",
    "        listOfLists.append(list(data))\n",
    "        "
   ]
  },
  {
   "cell_type": "markdown",
   "metadata": {},
   "source": [
    "# Checking it twice...\n",
    "\n",
    "The first element of each list should be a header row describing the datapoints that follow:"
   ]
  },
  {
   "cell_type": "code",
   "execution_count": 6,
   "metadata": {},
   "outputs": [
    {
     "data": {
      "text/plain": [
       "[['year', 'month', 'date_of_month', 'day_of_week', 'births'],\n",
       " ['1994', '1', '1', '6', '8096'],\n",
       " ['1994', '1', '2', '7', '7772'],\n",
       " ['1994', '1', '3', '1', '10142'],\n",
       " ['1994', '1', '4', '2', '11248']]"
      ]
     },
     "execution_count": 6,
     "metadata": {},
     "output_type": "execute_result"
    }
   ],
   "source": [
    "listOfLists[0][0:5]"
   ]
  },
  {
   "cell_type": "code",
   "execution_count": 7,
   "metadata": {},
   "outputs": [
    {
     "data": {
      "text/plain": [
       "[['year', 'month', 'date_of_month', 'day_of_week', 'births'],\n",
       " ['2000', '1', '1', '6', '9083'],\n",
       " ['2000', '1', '2', '7', '8006'],\n",
       " ['2000', '1', '3', '1', '11363'],\n",
       " ['2000', '1', '4', '2', '13032']]"
      ]
     },
     "execution_count": 7,
     "metadata": {},
     "output_type": "execute_result"
    }
   ],
   "source": [
    "listOfLists[1][0:5]"
   ]
  },
  {
   "cell_type": "markdown",
   "metadata": {},
   "source": [
    "# Benchmarking...\n",
    "\n",
    "Both datasets contain datapoints for the years 2000 - 2003. Presumably, the CDC and SSA births should match. \n",
    "\n",
    "The code below checks whether this is the case:"
   ]
  },
  {
   "cell_type": "code",
   "execution_count": 30,
   "metadata": {
    "scrolled": true
   },
   "outputs": [
    {
     "name": "stdout",
     "output_type": "stream",
     "text": [
      "It's True that both lists have the same number of elements.\n"
     ]
    }
   ],
   "source": [
    "checkList = []\n",
    "\n",
    "for each in listOfLists[0]:\n",
    "    try:\n",
    "        year = int(each[0])\n",
    "        if (2000 <= year < 2004):\n",
    "            checkList.append(each)\n",
    "    except:\n",
    "        pass\n",
    "\n",
    "\n",
    "print(\"It's\",(len(listOfLists[1]) == len(listOfLists[1])),\"that both lists have the same number of elements.\")\n",
    "\n"
   ]
  },
  {
   "cell_type": "code",
   "execution_count": 28,
   "metadata": {},
   "outputs": [
    {
     "data": {
      "text/plain": [
       "5480"
      ]
     },
     "execution_count": 28,
     "metadata": {},
     "output_type": "execute_result"
    }
   ],
   "source": [
    "len(listOfLists[1])"
   ]
  },
  {
   "cell_type": "code",
   "execution_count": 31,
   "metadata": {},
   "outputs": [
    {
     "data": {
      "text/plain": [
       "1461"
      ]
     },
     "execution_count": 31,
     "metadata": {},
     "output_type": "execute_result"
    }
   ],
   "source": [
    "len(checkList)"
   ]
  }
 ],
 "metadata": {
  "kernelspec": {
   "display_name": "Python 3",
   "language": "python",
   "name": "python3"
  },
  "language_info": {
   "codemirror_mode": {
    "name": "ipython",
    "version": 3
   },
   "file_extension": ".py",
   "mimetype": "text/x-python",
   "name": "python",
   "nbconvert_exporter": "python",
   "pygments_lexer": "ipython3",
   "version": "3.6.3"
  }
 },
 "nbformat": 4,
 "nbformat_minor": 2
}
